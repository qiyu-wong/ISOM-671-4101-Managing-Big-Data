{
 "cells": [
  {
   "cell_type": "code",
   "execution_count": 72,
   "metadata": {},
   "outputs": [],
   "source": [
    "str1 = \"If life were predictable it would cease to be life, and be without flavor\"\n",
    "str2 = \"Challenges are what make life interesting and overcoming them is what makes life meaningful\"\n",
    "str3 = \"Life is trying things to see if they work\"\n",
    "str4 = \"You will face many defeats in life, but never let yourself be defeated\""
   ]
  },
  {
   "cell_type": "code",
   "execution_count": 73,
   "metadata": {},
   "outputs": [],
   "source": [
    "list_str = [str1,str2,str3,str4]"
   ]
  },
  {
   "cell_type": "code",
   "execution_count": 83,
   "metadata": {},
   "outputs": [],
   "source": [
    "import pandas as pd\n",
    "import operator"
   ]
  },
  {
   "cell_type": "code",
   "execution_count": 86,
   "metadata": {},
   "outputs": [],
   "source": [
    "def map(tmp):\n",
    "    dicttmp = {}\n",
    "    tmp = tmp.replace(\",\",\"\")\n",
    "    tmp = tmp.lower()\n",
    "    tmp = tmp.split(\" \")\n",
    "    for i in tmp:\n",
    "        if i not in dicttmp.keys():\n",
    "            dicttmp[i] = 1\n",
    "        else:\n",
    "            dicttmp[i] = dicttmp[i] + 1\n",
    "    dicttmp = dict(sorted(dicttmp.items(), key=operator.itemgetter(1),reverse=True))\n",
    "    return dicttmp"
   ]
  },
  {
   "cell_type": "code",
   "execution_count": 92,
   "metadata": {},
   "outputs": [
    {
     "data": {
      "text/plain": [
       "{'life': 2,\n",
       " 'be': 2,\n",
       " 'if': 1,\n",
       " 'were': 1,\n",
       " 'predictable': 1,\n",
       " 'it': 1,\n",
       " 'would': 1,\n",
       " 'cease': 1,\n",
       " 'to': 1,\n",
       " 'and': 1,\n",
       " 'without': 1,\n",
       " 'flavor': 1}"
      ]
     },
     "execution_count": 92,
     "metadata": {},
     "output_type": "execute_result"
    }
   ],
   "source": [
    "map(str1)"
   ]
  },
  {
   "cell_type": "code",
   "execution_count": 87,
   "metadata": {},
   "outputs": [],
   "source": [
    "def redc_sum(tmp):\n",
    "    dicttmp = {}\n",
    "    for i in range(len(tmp)):\n",
    "        dict1 = map(tmp[i])\n",
    "        dicttmp = {key: dicttmp.get(key, 0) + dict1.get(key, 0)\n",
    "          for key in set(dicttmp) | set(dict1)}\n",
    "    dicttmp = dict(sorted(dicttmp.items(), key=operator.itemgetter(1),reverse=True))\n",
    "    return dicttmp"
   ]
  },
  {
   "cell_type": "code",
   "execution_count": 93,
   "metadata": {},
   "outputs": [
    {
     "data": {
      "text/plain": [
       "{'life': 6,\n",
       " 'be': 3,\n",
       " 'and': 2,\n",
       " 'to': 2,\n",
       " 'if': 2,\n",
       " 'what': 2,\n",
       " 'is': 2,\n",
       " 'things': 1,\n",
       " 'see': 1,\n",
       " 'never': 1,\n",
       " 'meaningful': 1,\n",
       " 'cease': 1,\n",
       " 'them': 1,\n",
       " 'work': 1,\n",
       " 'flavor': 1,\n",
       " 'face': 1,\n",
       " 'you': 1,\n",
       " 'challenges': 1,\n",
       " 'will': 1,\n",
       " 'yourself': 1,\n",
       " 'were': 1,\n",
       " 'it': 1,\n",
       " 'would': 1,\n",
       " 'are': 1,\n",
       " 'let': 1,\n",
       " 'in': 1,\n",
       " 'without': 1,\n",
       " 'overcoming': 1,\n",
       " 'but': 1,\n",
       " 'defeats': 1,\n",
       " 'they': 1,\n",
       " 'makes': 1,\n",
       " 'defeated': 1,\n",
       " 'trying': 1,\n",
       " 'predictable': 1,\n",
       " 'make': 1,\n",
       " 'interesting': 1,\n",
       " 'many': 1}"
      ]
     },
     "execution_count": 93,
     "metadata": {},
     "output_type": "execute_result"
    }
   ],
   "source": [
    "redc_sum(list_str)"
   ]
  },
  {
   "cell_type": "code",
   "execution_count": 94,
   "metadata": {},
   "outputs": [],
   "source": [
    "def redc_avg(str1,tmp):\n",
    "    dicttmp = redc_sum(tmp)\n",
    "    for i in dicttmp.keys():\n",
    "        if i == str1:\n",
    "            dict1 ={}\n",
    "            dict1[i] = dicttmp[i]/4\n",
    "            break\n",
    "    return dict1"
   ]
  },
  {
   "cell_type": "code",
   "execution_count": 95,
   "metadata": {},
   "outputs": [
    {
     "data": {
      "text/plain": [
       "{'life': 1.5}"
      ]
     },
     "execution_count": 95,
     "metadata": {},
     "output_type": "execute_result"
    }
   ],
   "source": [
    "redc_avg(\"life\",list_str)"
   ]
  },
  {
   "cell_type": "code",
   "execution_count": null,
   "metadata": {},
   "outputs": [],
   "source": []
  }
 ],
 "metadata": {
  "kernelspec": {
   "display_name": "Python 3",
   "language": "python",
   "name": "python3"
  },
  "language_info": {
   "codemirror_mode": {
    "name": "ipython",
    "version": 3
   },
   "file_extension": ".py",
   "mimetype": "text/x-python",
   "name": "python",
   "nbconvert_exporter": "python",
   "pygments_lexer": "ipython3",
   "version": "3.7.9"
  }
 },
 "nbformat": 4,
 "nbformat_minor": 4
}
